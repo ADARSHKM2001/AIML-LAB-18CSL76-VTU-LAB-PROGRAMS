{
 "cells": [
  {
   "cell_type": "code",
   "execution_count": 29,
   "id": "4687d4f9",
   "metadata": {},
   "outputs": [],
   "source": [
    "import pandas as pd\n",
    "import numpy as np\n",
    "from sklearn.model_selection import train_test_split\n",
    "from sklearn. naive_bayes import GaussianNB\n",
    "from sklearn import metrics"
   ]
  },
  {
   "cell_type": "code",
   "execution_count": 30,
   "id": "47c81951",
   "metadata": {},
   "outputs": [],
   "source": [
    "df = pd.read_csv(\"diabetes.csv\")\n",
    "feature_col_names =[ 'Pregnancies', 'Glucose','BloodPressure','SkinThickness' ,'Insulin', 'BMI', 'DiabetesPedigreeFunction','Age']\n",
    "predicted_class_names = ['diabetes']"
   ]
  },
  {
   "cell_type": "code",
   "execution_count": 40,
   "id": "d8a0eec0",
   "metadata": {},
   "outputs": [],
   "source": [
    "x = df[feature_col_names].values\n",
    "y = df[predicted_class_names].values"
   ]
  },
  {
   "cell_type": "code",
   "execution_count": 41,
   "id": "90ab9321",
   "metadata": {},
   "outputs": [],
   "source": [
    "xtrain, xtest, ytrain, ytest=train_test_split (x, y, test_size=0.33)\n",
    "ytrain = np.nan_to_num(ytrain)\n",
    "xtest = np.nan_to_num(xtest)\n",
    "ytest = np.nan_to_num(ytest)\n",
    "xtrain = np.nan_to_num(xtrain)"
   ]
  },
  {
   "cell_type": "code",
   "execution_count": 42,
   "id": "9964a68f",
   "metadata": {},
   "outputs": [
    {
     "name": "stdout",
     "output_type": "stream",
     "text": [
      "\n",
      " the total number of Training 3ata :  (514, 1)\n",
      "\n",
      " the total number o: Test Data :  (254, 1)\n"
     ]
    }
   ],
   "source": [
    "print ('\\n the total number of Training 3ata : ', ytrain.shape)\n",
    "print ('\\n the total number o: Test Data : ' , ytest.shape)"
   ]
  },
  {
   "cell_type": "code",
   "execution_count": 43,
   "id": "56f18ae1",
   "metadata": {},
   "outputs": [],
   "source": [
    "clf = GaussianNB().fit(xtrain,ytrain.ravel())\n",
    "predicted = clf.predict(xtest)\n",
    "predictTestData= clf.predict( [ [6, 148, 72, 35,0,33.6, 0.627 , 50]] )"
   ]
  },
  {
   "cell_type": "code",
   "execution_count": 44,
   "id": "99bafd41",
   "metadata": {},
   "outputs": [
    {
     "name": "stdout",
     "output_type": "stream",
     "text": [
      "\n",
      " confusion matrix\n",
      "[[254]]\n",
      "\n",
      " Accuracy of thc classifier is: 1.0\n",
      "\n",
      " The value of Precision 0.0\n",
      "\n",
      " The value of Recall 0.0\n",
      "Predicted Value for individual Test Data: [0.]\n"
     ]
    },
    {
     "name": "stderr",
     "output_type": "stream",
     "text": [
      "C:\\Users\\USER\\anaconda3\\lib\\site-packages\\sklearn\\metrics\\_classification.py:1318: UndefinedMetricWarning: Precision is ill-defined and being set to 0.0 due to no predicted samples. Use `zero_division` parameter to control this behavior.\n",
      "  _warn_prf(average, modifier, msg_start, len(result))\n",
      "C:\\Users\\USER\\anaconda3\\lib\\site-packages\\sklearn\\metrics\\_classification.py:1318: UndefinedMetricWarning: Recall is ill-defined and being set to 0.0 due to no true samples. Use `zero_division` parameter to control this behavior.\n",
      "  _warn_prf(average, modifier, msg_start, len(result))\n"
     ]
    }
   ],
   "source": [
    "print ('\\n confusion matrix' )\n",
    "print (metrics.confusion_matrix(ytest, predicted))\n",
    "print ('\\n Accuracy of thc classifier is:' ,metrics.accuracy_score(ytest, predicted))\n",
    "print ('\\n The value of Precision' ,metrics.precision_score(ytest,predicted))\n",
    "print ('\\n The value of Recall', metrics.recall_score (ytest,predicted))\n",
    "print (\"Predicted Value for individual Test Data:\", predictTestData)"
   ]
  },
  {
   "cell_type": "code",
   "execution_count": null,
   "id": "5e9c92f1",
   "metadata": {},
   "outputs": [],
   "source": []
  }
 ],
 "metadata": {
  "kernelspec": {
   "display_name": "Python 3 (ipykernel)",
   "language": "python",
   "name": "python3"
  },
  "language_info": {
   "codemirror_mode": {
    "name": "ipython",
    "version": 3
   },
   "file_extension": ".py",
   "mimetype": "text/x-python",
   "name": "python",
   "nbconvert_exporter": "python",
   "pygments_lexer": "ipython3",
   "version": "3.9.12"
  }
 },
 "nbformat": 4,
 "nbformat_minor": 5
}
